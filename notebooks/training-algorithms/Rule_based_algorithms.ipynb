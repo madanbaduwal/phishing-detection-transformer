{
 "cells": [
  {
   "cell_type": "markdown",
   "id": "e151df14",
   "metadata": {},
   "source": [
    "## Rule based system\n",
    "\n",
    "* We want to classify news articles into two groups: Sports and Politics. First, you’ll need to define two lists of words that characterize each group (e.g., words related to sports such as football, basketball, LeBron James, etc., and words related to politics, such as Donald Trump, Hillary Clinton, Putin, etc.).\n",
    "\n",
    "* Next, when you want to classify a new incoming text, you’ll need to count the number of sport-related words that appear in the text and do the same for politics-related words. If the number of sports-related word appearances is greater than the politics-related word count, then the text is classified as Sports and vice versa.\n",
    "\n",
    "```\n",
    "sports = [\"football\",\"vollyball\",\"cricket\",\"ball\"]\n",
    "\n",
    "politics = [\"Priminister\",\"K.P oli\",\"Vote\"]\n",
    "\n",
    "\n",
    "New text data = [\"vollyball\",\"cricket\",\"Vote\"]\n",
    "No. of sports words = 2\n",
    "No. of politics words = 1\n",
    "\n",
    "Class of new text data is : sports\n",
    "```\n",
    "\n",
    "**Advantage**\n",
    "* Easy to understand\n",
    "\n",
    "**Disadvantage**\n",
    "* Time consuming\n",
    "* Required deep domain knowledge\n",
    "* For complex system required lot of data analysis and testing\n"
   ]
  },
  {
   "cell_type": "code",
   "execution_count": null,
   "id": "e4f3746e",
   "metadata": {},
   "outputs": [],
   "source": []
  }
 ],
 "metadata": {
  "kernelspec": {
   "display_name": "Python 3 (ipykernel)",
   "language": "python",
   "name": "python3"
  },
  "language_info": {
   "codemirror_mode": {
    "name": "ipython",
    "version": 3
   },
   "file_extension": ".py",
   "mimetype": "text/x-python",
   "name": "python",
   "nbconvert_exporter": "python",
   "pygments_lexer": "ipython3",
   "version": "3.9.7"
  }
 },
 "nbformat": 4,
 "nbformat_minor": 5
}
