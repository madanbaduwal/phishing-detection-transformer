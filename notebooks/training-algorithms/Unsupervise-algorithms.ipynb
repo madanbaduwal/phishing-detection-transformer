{
 "cells": [
  {
   "cell_type": "markdown",
   "id": "b4afd2d2",
   "metadata": {},
   "source": [
    "# Unsupervise learning"
   ]
  },
  {
   "cell_type": "markdown",
   "id": "1aa22862",
   "metadata": {},
   "source": [
    "## Load final Dataset"
   ]
  },
  {
   "cell_type": "code",
   "execution_count": 76,
   "id": "f6cbe1ad",
   "metadata": {},
   "outputs": [
    {
     "name": "stdout",
     "output_type": "stream",
     "text": [
      "None\n",
      "C:\\Users\\ACER\\Desktop\\text-classification\\data\\final\n"
     ]
    },
    {
     "data": {
      "text/plain": [
       "array([[0.        , 0.        , 0.        , ..., 0.        , 0.        ,\n",
       "        0.        ],\n",
       "       [0.05400359, 0.17623931, 0.        , ..., 0.        , 0.        ,\n",
       "        0.        ],\n",
       "       [0.        , 0.        , 0.        , ..., 0.        , 0.        ,\n",
       "        0.        ],\n",
       "       ...,\n",
       "       [0.        , 0.        , 0.        , ..., 0.        , 0.        ,\n",
       "        0.        ],\n",
       "       [0.        , 0.        , 0.        , ..., 0.        , 0.        ,\n",
       "        0.        ],\n",
       "       [0.        , 0.        , 0.        , ..., 0.        , 0.        ,\n",
       "        0.        ]])"
      ]
     },
     "execution_count": 76,
     "metadata": {},
     "output_type": "execute_result"
    }
   ],
   "source": [
    "from numpy import loadtxt\n",
    "import os \n",
    "\n",
    "print(os.chdir(\"../final\"))\n",
    "print(os.getcwd())\n",
    "X_final = loadtxt('data.csv', delimiter=',')\n",
    "X_final"
   ]
  },
  {
   "cell_type": "markdown",
   "id": "540e43a0",
   "metadata": {},
   "source": [
    "## Models"
   ]
  },
  {
   "cell_type": "markdown",
   "id": "73e1f9d8",
   "metadata": {},
   "source": [
    "### KMeans"
   ]
  },
  {
   "cell_type": "markdown",
   "id": "af8d1769",
   "metadata": {},
   "source": [
    "* https://en.wikipedia.org/wiki/K-means_clustering\n",
    "* https://www.researchgate.net/publication/271616608_A_Clustering_Method_Based_on_K-Means_Algorithm\n",
    "* "
   ]
  },
  {
   "cell_type": "markdown",
   "id": "a01efad0",
   "metadata": {},
   "source": [
    "\n",
    "K-Means is an iterative algorithm that tries to cluster the given dataset into k number of clusters and maximize the similarity between data points and their respective cluster centroid.\n",
    "\n",
    "This algorithm was proposed by Stuart Lloyd at the Bell Labs in 1957 but it was not published outside of the company until 1982. It was also proposed by Edward W. Forgy in 1965. Hence, K-Means is sometimes referred to as Lloyd-Forgy algorithm. \n",
    "\n",
    "**Algorithm**\n",
    "\n",
    "The algorithm for K-Means clustering is written below:\n",
    "\n",
    "1. Specify the number of clusters K.\n",
    "2. Initialize the cluster centroids by randomly sampling data points from the dataset.\n",
    "\n",
    "3. Compute the distance between each point and each cluster centroids. \n",
    "\n",
    "$$ distance = \\|x_i - \\bar{c}_k \\| $$\n",
    "\n",
    "4. Assign each point to the closest cluster centroid (minimum distance).\n",
    "\n",
    "5. Compute the new cluster centroid for each cluster by taking the mean of all the data points in that cluster.\n",
    "6. Repeat step 3-5 until there is no change in the cluster centroids.\n",
    "\n",
    "*Note: Initialization (Step 2) can also be done by randomly sampling the centroids from the range of the data.*\n",
    "\n",
    "The objective of the K-Means clustering algorithm is to minimize the following objective function i.e. Sum of Squared Errors (SSE).\n",
    "\n",
    "$$\n",
    "SSE = \\sum_{k=1}^K \\sum_{x_i \\in c_k} \\|x_i - \\bar{c}_k \\|^2\n",
    "$$\n",
    "where,   \n",
    "* $K$ is the number of clusters\n",
    "\n",
    "* $x_i$ is the $i^{th}$ data point and\n",
    "\n",
    "* $c_k$ is the set of points in the $k^{th}$ cluster\n",
    "\n",
    "* $\\bar{c}_k$ is the centroid of $k^{th}$ cluster\n",
    "\n",
    "\n"
   ]
  },
  {
   "cell_type": "markdown",
   "id": "0812afc4",
   "metadata": {},
   "source": [
    "**No of cluster analysis**"
   ]
  },
  {
   "cell_type": "code",
   "execution_count": 80,
   "id": "475b4f4a",
   "metadata": {},
   "outputs": [],
   "source": [
    "from sklearn.cluster import KMeans\n",
    "import matplotlib.pyplot as plt\n",
    "import numpy as np\n",
    "import pandas as pd\n",
    "\n",
    "\n",
    "def elbowplot(data):\n",
    "    inertia = []\n",
    "    for n in range(1 , 11):\n",
    "        algorithm = (KMeans(n_clusters = n ,init='k-means++', n_init = 10 ,max_iter=300, \n",
    "                            tol=0.0001,  random_state= 111  , algorithm='elkan') )\n",
    "        algorithm.fit(data)\n",
    "        inertia.append(algorithm.inertia_)\n",
    "    plt.figure(1 , figsize = (15 ,6))\n",
    "    plt.plot(np.arange(1 , 11) , inertia , 'o')\n",
    "    plt.plot(np.arange(1 , 11) , inertia , '-' , alpha = 0.5)\n",
    "    plt.xlabel('Number of Clusters') , plt.ylabel('Inertia')\n",
    "    plt.show()"
   ]
  },
  {
   "cell_type": "code",
   "execution_count": 81,
   "id": "fc36b84f",
   "metadata": {},
   "outputs": [
    {
     "name": "stderr",
     "output_type": "stream",
     "text": [
      "C:\\Users\\ACER\\anaconda3\\lib\\site-packages\\sklearn\\cluster\\_kmeans.py:827: RuntimeWarning: algorithm='elkan' doesn't make sense for a single cluster. Using 'full' instead.\n",
      "  warnings.warn(\"algorithm='elkan' doesn't make sense for a single \"\n",
      "C:\\Users\\ACER\\anaconda3\\lib\\site-packages\\sklearn\\cluster\\_kmeans.py:881: UserWarning: KMeans is known to have a memory leak on Windows with MKL, when there are less chunks than available threads. You can avoid it by setting the environment variable OMP_NUM_THREADS=6.\n",
      "  warnings.warn(\n"
     ]
    },
    {
     "data": {
      "image/png": "[encoded data removed]",
      "text/plain": [
       "<Figure size 1080x432 with 1 Axes>"
      ]
     },
     "metadata": {
      "needs_background": "light"
     },
     "output_type": "display_data"
    }
   ],
   "source": [
    "elbowplot(X_final)"
   ]
  },
  {
   "cell_type": "markdown",
   "id": "7b7e8237",
   "metadata": {},
   "source": [
    "**Train model**"
   ]
  },
  {
   "cell_type": "code",
   "execution_count": 26,
   "id": "a9a455db",
   "metadata": {},
   "outputs": [
    {
     "data": {
      "text/plain": [
       "KMeans(max_iter=100, n_clusters=2, n_init=1)"
      ]
     },
     "execution_count": 26,
     "metadata": {},
     "output_type": "execute_result"
    }
   ],
   "source": [
    "true_k = 2\n",
    "k_model = KMeans(n_clusters=true_k, init='k-means++', max_iter=100, n_init=1)\n",
    "k_model.fit(X_final)"
   ]
  },
  {
   "cell_type": "code",
   "execution_count": 20,
   "id": "5968e557",
   "metadata": {},
   "outputs": [
    {
     "name": "stdout",
     "output_type": "stream",
     "text": [
      "Cluster 0:\n",
      "404\n",
      "server\n",
      "litespeed\n",
      "web\n",
      "terection\n",
      "dysfunction\n",
      "viagra\n",
      "requested\n",
      "infections\n",
      "health\n",
      "site\n",
      "page\n",
      "resource\n",
      "cialis\n",
      "tmale\n",
      "enhancement\n",
      "erectile\n",
      "technologies\n",
      "advised\n",
      "proudly\n",
      "powered\n",
      "company\n",
      "control\n",
      "content\n",
      "35\n",
      "hosting\n",
      "disease\n",
      "obstructive\n",
      "asthma\n",
      "tchronic\n",
      "pulmonary\n",
      "terectile\n",
      "super\n",
      "ed\n",
      "95\n",
      "facebook\n",
      "forbidden\n",
      "403\n",
      "log\n",
      "blood\n",
      "female\n",
      "tabs\n",
      "pharmacy\n",
      "anti\n",
      "soft\n",
      "bacterial\n",
      "libido\n",
      "pressure\n",
      "spam\n",
      "professional\n",
      "active\n",
      "care\n",
      "loss\n",
      "usd\n",
      "50\n",
      "45\n",
      "65\n",
      "en\n",
      "15\n",
      "55\n",
      "plesk\n",
      "phishing\n",
      "2021\n",
      "view\n",
      "mobile\n",
      "access\n",
      "accept\n",
      "denied\n",
      "continue\n",
      "cookies\n",
      "36\n",
      "credit\n",
      "support\n",
      "policy\n",
      "unsubscribe\n",
      "order\n",
      "25\n",
      "service\n",
      "offer\n",
      "time\n",
      "stop\n",
      "desktop\n",
      "sugar\n",
      "24\n",
      "customer\n",
      "weight\n",
      "12\n",
      "limited\n",
      "pattern\n",
      "pink\n",
      "smoking\n",
      "glucophage\n",
      "bactrim\n",
      "labialis\n",
      "antidiabetic\n",
      "antiviral\n",
      "gbp\n",
      "anxiety\n",
      "diarrhea\n",
      "aud\n",
      "Cluster 1:\n",
      "suspended\n",
      "account\n",
      "provider\n",
      "information\n",
      "hosting\n",
      "contact\n",
      "mas\n",
      "contacta\n",
      "proveedor\n",
      "información\n",
      "tu\n",
      "para\n",
      "server\n",
      "powered\n",
      "infections\n",
      "resource\n",
      "requested\n",
      "site\n",
      "company\n",
      "log\n",
      "blood\n",
      "usd\n",
      "terection\n",
      "45\n",
      "dysfunction\n",
      "pink\n",
      "active\n",
      "order\n",
      "credit\n",
      "2021\n",
      "40\n",
      "allow\n",
      "support\n",
      "15\n",
      "loss\n",
      "forbidden\n",
      "erectile\n",
      "access\n",
      "accept\n",
      "enhancement\n",
      "cialis\n",
      "tmale\n",
      "24\n",
      "49\n",
      "report\n",
      "desktop\n",
      "diabetes\n",
      "relief\n",
      "cholesterol\n",
      "checks\n",
      "service\n",
      "link\n",
      "sleep\n",
      "10\n",
      "enter\n",
      "email\n",
      "soft\n",
      "anti\n",
      "bacterial\n",
      "unsubscribe\n",
      "facebook\n",
      "skin\n",
      "libido\n",
      "female\n",
      "stomach\n",
      "high\n",
      "fr\n",
      "44\n",
      "general\n",
      "31\n",
      "tabs\n",
      "time\n",
      "denied\n",
      "products\n",
      "stop\n",
      "password\n",
      "12\n",
      "pharmacy\n",
      "notifications\n",
      "port\n",
      "url\n",
      "browser\n",
      "note\n",
      "experience\n",
      "language\n",
      "recommended\n",
      "outlook\n",
      "tdecreased\n",
      "ted\n",
      "tcovid\n",
      "tcystitis\n",
      "tcoronavirus\n",
      "tcopd\n",
      "tcold\n",
      "tedema\n",
      "pectoris\n",
      "tfemale\n",
      "zovirax\n",
      "zoster\n",
      "theart\n"
     ]
    }
   ],
   "source": [
    "order_centroids = k_model.cluster_centers_.argsort()[:, ::-1]\n",
    "terms = vectorizer.get_feature_names()\n",
    "\n",
    "for i in range(true_k):\n",
    "    print(\"Cluster %d:\" % i),\n",
    "    for ind in order_centroids[i, :100]:\n",
    "        print(f\"{terms[ind]}\")"
   ]
  },
  {
   "cell_type": "markdown",
   "id": "c7c0bcdc",
   "metadata": {},
   "source": [
    "**PCA- analysis of cluster**"
   ]
  },
  {
   "cell_type": "code",
   "execution_count": 67,
   "id": "c975a15e",
   "metadata": {},
   "outputs": [],
   "source": [
    "def cluster_region_plot(X,n):\n",
    "\n",
    "    # Step size of the mesh. Decrease to increase the quality of the VQ.\n",
    "    h = 0.02 # point in the mesh [x_min, x_max]x[y_min, y_max].\n",
    "\n",
    "\n",
    "\n",
    "    # Plot the decision boundary. For that, we will assign a color to each\n",
    "    x_min, x_max = X[:, 0].min() - 1, X[:, 0].max() + 1\n",
    "    y_min, y_max = X[:, 1].min() - 1, X[:, 1].max() + 1\n",
    "    xx, yy = np.meshgrid(np.arange(x_min, x_max, h), np.arange(y_min, y_max, h))\n",
    "\n",
    "    # Obtain labels for each point in mesh. Use last trained model(c_)\n",
    "    algorithm,labels,centroids=kmeans(X,n)\n",
    "    Z = algorithm.predict(np.c_[xx.ravel(), yy.ravel()]) \n",
    "\n",
    "\n",
    "    plt.figure(1 , figsize = (15 , 7) )\n",
    "    plt.clf()\n",
    "    # Put the result into a color plot\n",
    "    Z = Z.reshape(xx.shape)\n",
    "    plt.imshow(Z , interpolation='nearest', \n",
    "            extent=(xx.min(), xx.max(), yy.min(), yy.max()), \n",
    "            cmap = plt.cm.Pastel2, aspect = 'auto', origin='lower')\n",
    "    plt.title('K-means clustering plot')\n",
    "    plt.show()"
   ]
  },
  {
   "cell_type": "code",
   "execution_count": 68,
   "id": "e4bb761d",
   "metadata": {},
   "outputs": [
    {
     "data": {
      "text/html": [
       "<div>\n",
       "<style scoped>\n",
       "    .dataframe tbody tr th:only-of-type {\n",
       "        vertical-align: middle;\n",
       "    }\n",
       "\n",
       "    .dataframe tbody tr th {\n",
       "        vertical-align: top;\n",
       "    }\n",
       "\n",
       "    .dataframe thead th {\n",
       "        text-align: right;\n",
       "    }\n",
       "</style>\n",
       "<table border=\"1\" class=\"dataframe\">\n",
       "  <thead>\n",
       "    <tr style=\"text-align: right;\">\n",
       "      <th></th>\n",
       "      <th>pca1</th>\n",
       "      <th>pca2</th>\n",
       "    </tr>\n",
       "  </thead>\n",
       "  <tbody>\n",
       "    <tr>\n",
       "      <th>0</th>\n",
       "      <td>-0.088346</td>\n",
       "      <td>0.054866</td>\n",
       "    </tr>\n",
       "    <tr>\n",
       "      <th>1</th>\n",
       "      <td>-0.067648</td>\n",
       "      <td>0.077869</td>\n",
       "    </tr>\n",
       "    <tr>\n",
       "      <th>2</th>\n",
       "      <td>-0.131038</td>\n",
       "      <td>0.027372</td>\n",
       "    </tr>\n",
       "    <tr>\n",
       "      <th>3</th>\n",
       "      <td>-0.231642</td>\n",
       "      <td>0.816461</td>\n",
       "    </tr>\n",
       "    <tr>\n",
       "      <th>4</th>\n",
       "      <td>-0.068959</td>\n",
       "      <td>0.076357</td>\n",
       "    </tr>\n",
       "  </tbody>\n",
       "</table>\n",
       "</div>"
      ],
      "text/plain": [
       "       pca1      pca2\n",
       "0 -0.088346  0.054866\n",
       "1 -0.067648  0.077869\n",
       "2 -0.131038  0.027372\n",
       "3 -0.231642  0.816461\n",
       "4 -0.068959  0.076357"
      ]
     },
     "execution_count": 68,
     "metadata": {},
     "output_type": "execute_result"
    }
   ],
   "source": [
    "##### PCA analysis\n",
    "from sklearn.decomposition import PCA\n",
    "\n",
    "\n",
    "lower_dims_data = PCA(n_components=2).fit_transform(X_final)\n",
    "plot_df = pd.DataFrame(lower_dims_data, columns=['pca1','pca2'])\n",
    "\n",
    "\n",
    "plot_df.head()"
   ]
  },
  {
   "cell_type": "code",
   "execution_count": 69,
   "id": "54f47819",
   "metadata": {},
   "outputs": [
    {
     "name": "stderr",
     "output_type": "stream",
     "text": [
      "C:\\Users\\ACER\\anaconda3\\lib\\site-packages\\sklearn\\cluster\\_kmeans.py:827: RuntimeWarning: algorithm='elkan' doesn't make sense for a single cluster. Using 'full' instead.\n",
      "  warnings.warn(\"algorithm='elkan' doesn't make sense for a single \"\n",
      "C:\\Users\\ACER\\anaconda3\\lib\\site-packages\\sklearn\\cluster\\_kmeans.py:881: UserWarning: KMeans is known to have a memory leak on Windows with MKL, when there are less chunks than available threads. You can avoid it by setting the environment variable OMP_NUM_THREADS=6.\n",
      "  warnings.warn(\n"
     ]
    },
    {
     "data": {
      "image/png": "[encoded data removed]",
      "text/plain": [
       "<Figure size 1080x432 with 1 Axes>"
      ]
     },
     "metadata": {
      "needs_background": "light"
     },
     "output_type": "display_data"
    }
   ],
   "source": [
    "# attendance and percent_activity\n",
    "XPCA = plot_df[['pca1' , 'pca2']].iloc[: , :].values\n",
    "elbowplot(XPCA)"
   ]
  },
  {
   "cell_type": "code",
   "execution_count": 70,
   "id": "13c6a2c0",
   "metadata": {},
   "outputs": [
    {
     "data": {
      "text/html": [
       "<div>\n",
       "<style scoped>\n",
       "    .dataframe tbody tr th:only-of-type {\n",
       "        vertical-align: middle;\n",
       "    }\n",
       "\n",
       "    .dataframe tbody tr th {\n",
       "        vertical-align: top;\n",
       "    }\n",
       "\n",
       "    .dataframe thead th {\n",
       "        text-align: right;\n",
       "    }\n",
       "</style>\n",
       "<table border=\"1\" class=\"dataframe\">\n",
       "  <thead>\n",
       "    <tr style=\"text-align: right;\">\n",
       "      <th></th>\n",
       "      <th>pca1</th>\n",
       "      <th>pca2</th>\n",
       "      <th>Kmeans label</th>\n",
       "    </tr>\n",
       "  </thead>\n",
       "  <tbody>\n",
       "    <tr>\n",
       "      <th>0</th>\n",
       "      <td>-0.088346</td>\n",
       "      <td>0.054866</td>\n",
       "      <td>0</td>\n",
       "    </tr>\n",
       "    <tr>\n",
       "      <th>1</th>\n",
       "      <td>-0.067648</td>\n",
       "      <td>0.077869</td>\n",
       "      <td>0</td>\n",
       "    </tr>\n",
       "    <tr>\n",
       "      <th>2</th>\n",
       "      <td>-0.131038</td>\n",
       "      <td>0.027372</td>\n",
       "      <td>0</td>\n",
       "    </tr>\n",
       "    <tr>\n",
       "      <th>3</th>\n",
       "      <td>-0.231642</td>\n",
       "      <td>0.816461</td>\n",
       "      <td>0</td>\n",
       "    </tr>\n",
       "    <tr>\n",
       "      <th>4</th>\n",
       "      <td>-0.068959</td>\n",
       "      <td>0.076357</td>\n",
       "      <td>0</td>\n",
       "    </tr>\n",
       "  </tbody>\n",
       "</table>\n",
       "</div>"
      ],
      "text/plain": [
       "       pca1      pca2  Kmeans label\n",
       "0 -0.088346  0.054866             0\n",
       "1 -0.067648  0.077869             0\n",
       "2 -0.131038  0.027372             0\n",
       "3 -0.231642  0.816461             0\n",
       "4 -0.068959  0.076357             0"
      ]
     },
     "execution_count": 70,
     "metadata": {},
     "output_type": "execute_result"
    }
   ],
   "source": [
    "algorithm,labels,centroids=kmeans(XPCA,2)\n",
    "PCAdata = plot_df.copy()\n",
    "PCAdata['Kmeans label'] = algorithm.labels_\n",
    "PCAdata.head()"
   ]
  },
  {
   "cell_type": "code",
   "execution_count": 71,
   "id": "0cc478bf",
   "metadata": {},
   "outputs": [
    {
     "data": {
      "image/png": "[encoded data removed]",
      "text/plain": [
       "<Figure size 1080x504 with 1 Axes>"
      ]
     },
     "metadata": {
      "needs_background": "light"
     },
     "output_type": "display_data"
    }
   ],
   "source": [
    "cluster_region_plot(XPCA,2)"
   ]
  },
  {
   "cell_type": "code",
   "execution_count": 72,
   "id": "054c7bc9",
   "metadata": {},
   "outputs": [],
   "source": [
    "import seaborn as sns\n",
    "\n",
    "def cluster_region_and_cluster_labels_plot(X,x_axis,y_axis,new_data,pallet):\n",
    "\n",
    "    plot_df = pd.DataFrame(X, columns=[x_axis,y_axis])\n",
    "\n",
    "    h = 0.02\n",
    "\n",
    "    # Plot the decision boundary. For that, we will assign a color to each\n",
    "    x_min, x_max = X[:, 0].min() - 1, X[:, 0].max() + 1\n",
    "    y_min, y_max = X[:, 1].min() - 1, X[:, 1].max() + 1\n",
    "    xx, yy = np.meshgrid(np.arange(x_min, x_max, h), np.arange(y_min, y_max, h))\n",
    "\n",
    "    # Obtain labels for each point in mesh. Use last trained model(c_)\n",
    "    Z = algorithm.predict(np.c_[xx.ravel(), yy.ravel()])\n",
    "\n",
    "    plt.figure(1 , figsize = (15 , 7) )\n",
    "    plt.clf()\n",
    "    Z = Z.reshape(xx.shape)\n",
    "    plt.imshow(Z , interpolation='nearest', extent=(xx.min(), xx.max(), yy.min(), yy.max()), cmap = plt.cm.Pastel2, aspect = 'auto', origin='lower')\n",
    "    sns.scatterplot(x=x_axis, y=y_axis, hue=new_data,data=plot_df,s=80, palette=pallet)\n",
    "    plt.scatter(x = centroids[: , 0] , y =  centroids[: , 1] , s = 300 , c = 'red' , alpha = 0.5)\n",
    "    plt.title('K-means clustering plot')\n",
    "    plt.show()"
   ]
  },
  {
   "cell_type": "code",
   "execution_count": 73,
   "id": "a97f0a73",
   "metadata": {},
   "outputs": [
    {
     "data": {
      "image/png": "[encoded data removed]",
      "text/plain": [
       "<Figure size 1080x504 with 1 Axes>"
      ]
     },
     "metadata": {
      "needs_background": "light"
     },
     "output_type": "display_data"
    }
   ],
   "source": [
    "cluster_region_and_cluster_labels_plot(XPCA,'pca1','pca2',PCAdata['Kmeans label'],['Green','Red'])\n"
   ]
  },
  {
   "cell_type": "markdown",
   "id": "6a19b808",
   "metadata": {},
   "source": [
    "**TSNE-plot**"
   ]
  },
  {
   "cell_type": "code",
   "execution_count": 21,
   "id": "5495024a",
   "metadata": {},
   "outputs": [
    {
     "data": {
      "image/png": "[encoded data removed]",
      "text/plain": [
       "<Figure size 462x360 with 6 Axes>"
      ]
     },
     "metadata": {
      "needs_background": "light"
     },
     "output_type": "display_data"
    }
   ],
   "source": [
    "import matplotlib.pyplot as plt\n",
    "from sklearn.manifold import TSNE\n",
    "import seaborn as sns\n",
    "\n",
    "\n",
    "tsne = TSNE().fit_transform(X=X,)\n",
    "tsne = pd.DataFrame(tsne, columns=['A', 'B'])\n",
    "\n",
    "label = [c for c in k_model.labels_]\n",
    "data = pd.DataFrame({'Label': label})\n",
    "\n",
    "data[\"Label\"] = data[\"Label\"].replace(0, 'Phishing')\n",
    "\n",
    "data[\"Label\"] = data[\"Label\"].replace(1, 'Non-Phishing')\n",
    "\n",
    "tsne[\"Label\"] = list(data[\"Label\"]).copy()\n",
    "colors = {'Phishing':'#FF0000', \n",
    "          'Non-Phishing':'#00FF00'}\n",
    "sns.pairplot(tsne, hue='Label', diag_kind='kde', markers='.', palette=colors)\n",
    "plt.show()"
   ]
  },
  {
   "cell_type": "code",
   "execution_count": 49,
   "id": "c9875c48",
   "metadata": {},
   "outputs": [],
   "source": [
    "def kmeans(data,n):\n",
    "\n",
    "    algorithm = (KMeans(n_clusters = n ,init='k-means++', n_init = 10 ,max_iter=300, \n",
    "                            tol=0.0001,  random_state= 111  , algorithm='elkan') )\n",
    "    algorithm.fit(data)\n",
    "    labels = algorithm.labels_\n",
    "    centroids = algorithm.cluster_centers_\n",
    "\n",
    "    return algorithm,labels,centroids"
   ]
  },
  {
   "cell_type": "markdown",
   "id": "601a140b",
   "metadata": {},
   "source": [
    "##### The Silhouette Index\n",
    "\n",
    "a. The first one is something called the silhouette index. The silhouette index of a point gives a measure of how close a point is to other points in its cluster, and how far away it is from points in the other clusters.\n",
    "\n",
    "The silouette index for a point is given by $s = 1 - \\frac{a}{b}$, where $a$ is its average distance to points in its cluster, and $b$ is its average distance from its nearest neighboring cluster. Typically, $a$ is smaller than $b$, and the silhouette index falls between $0$ and $1$. If $a>b$, we use $s = \\frac{b}{a} - 1$. That is, we can condense our formula into $s = \\frac{b-a}{max(a,b)}$. You can then average the silhouette index across all points to find the silhouette index for all of the points. \n",
    "\n",
    "Generally, dense and well separated clusters result in a silhouette index that is close to 1. Values close to 0 indicate that the clusters have significant overlap, and values close to -1 indicate that the clustering has resulted in clusters that have are sparse and overlap with one another. "
   ]
  },
  {
   "cell_type": "code",
   "execution_count": 51,
   "id": "7c0f0f29",
   "metadata": {},
   "outputs": [
    {
     "name": "stdout",
     "output_type": "stream",
     "text": [
      "Silhouette_score when number of cluster n=2 is 0.3794073788292475\n"
     ]
    }
   ],
   "source": [
    "from sklearn.metrics import silhouette_samples,silhouette_score\n",
    "\n",
    "\n",
    "l=[2]\n",
    "for i in l:\n",
    "    algorithm,labels,centroids=kmeans(X_final,i)\n",
    "    print('Silhouette_score when number of cluster n=%s is'%i,silhouette_score(X_final,labels, metric='euclidean'))\n",
    "\n"
   ]
  },
  {
   "cell_type": "markdown",
   "id": "d2475c71",
   "metadata": {},
   "source": [
    "**Prediction**"
   ]
  },
  {
   "cell_type": "code",
   "execution_count": 22,
   "id": "4730ae35",
   "metadata": {},
   "outputs": [],
   "source": [
    "def textscrapper_from_website(url):\n",
    "    html = urllib.request.urlopen(url)  # if you are trying to extract from url\n",
    "    \n",
    "#     # Below two line code are for open local file and store in variable\n",
    "#     # exact location need to be mentioned\n",
    "#     HTMLFileToBeOpened = open(url,encoding=\"utf8\")\n",
    "#     # Reading the file and storing in a variable\n",
    "#     html = HTMLFileToBeOpened.read()\n",
    "    \n",
    "    soup = BeautifulSoup(html,'html.parser')\n",
    "    data = soup.get_text(\"|\",strip=True) \n",
    "    data = data.split(\"|\")    \n",
    "    return data"
   ]
  },
  {
   "cell_type": "code",
   "execution_count": 23,
   "id": "6154798b",
   "metadata": {},
   "outputs": [],
   "source": [
    "def prediction(data):\n",
    "    X = vectorizer.transform(data)\n",
    "    predicted = k_model.predict(X)\n",
    "    print(f\"Prediction :{predicted}\")"
   ]
  },
  {
   "cell_type": "markdown",
   "id": "b42d903e",
   "metadata": {},
   "source": [
    "Some testing websites\n",
    "\n",
    "* https://fusemachines.com/\n",
    "* https://www.facebook.com/\n"
   ]
  },
  {
   "cell_type": "code",
   "execution_count": 28,
   "id": "24e0cf05",
   "metadata": {},
   "outputs": [
    {
     "data": {
      "text/plain": [
       "['[\\'AI Services and AI Education \\', \\' Fusemachines\\', \\'AI Services\\', \\'Explore AI Services\\', \\'Data & AI Teams\\', \\'Data Teams\\', \\'AI Teams\\', \\'Data & AI Strategy\\', \\'Data Strategy\\', \\'AI Strategy\\', \\'Bespoke AI Solutions\\', \\'AI Education\\', \\'Explore AI Education\\', \\'For Enterprise\\', \\'Training Program\\', \\'AI Schools\\', \\'For Leadership\\', \\'For Engineers\\', \\'For Education Institutions\\', \\'AI Education Services\\', \\'For High Schools\\', \\'For Universities, Colleges and Community Colleges\\', \\'For Educators\\', \\'For Working Professionals\\', \\'For Governments\\', \\'Democratize AI\\', \\'Success Stories\\', \\'Insights\\', \\'About\\', \\'Careers\\', \\'Contact Us\\', \\'Democratize AI\\', \\'AI Services for Enterprise\\', \\'\\', \\'\\', \\'AI Education for All\\', \\'Schedule a conversation\\', \\'AI Services\\', \\'Data & AI Team\\', \\'Data & AI Strategy\\', \\'Bespoke AI Solutions\\', \\'AI Education\\', \\'For Enterprise\\', \\'For Education Institutions\\', \\'For Governments\\', \\'Trusted by\\', \\'View all success stories\\', \\'AI Services\\', \\'Accelerating the Enterprise Data to AI Journey\\', \\'Learn more\\', \\'Data & AI Teams\\', \"We build agile data and AI teams to address your organization\\'s needs.\", \\'Data & AI Strategy\\', \\'We arm the enterprise with data and AI strategies that propel them to become industry innovators.\\', \\'Bespoke AI Solutions\\', \"We develop solutions that align with your existing technology and strategic goals, when off-the-shelf tools don\\'t cut it.\", \\'AI Education\\', \\'We Build AI Schools and Programs for the Public and Private Sectors\\', \\'Learn more\\', \\'For Enterprise\\', \\'Programs that teach everything leaders and engineers need to know about AI.\\', \\'For Educational Institutions\\', \\'Providing quality mathematics and AI education on a global scale.\\', \\'For Governments\\', \\'Enabling governments to set up their constituents for a successful career in AI.\\', \\'Fusemachines in the news\\', \\'Social Impact Tech: Sameer Maskey of Fusemachines On How Their Technology Will Make An Important Positive Impact\\', \\'Read more\\', \\'Why Parents are Pushing Back Against Tech Summer Camps\\', \\'Read more\\', \"‘There aren\\'t enough data scientists’: How the future of reskilling in tech is changing.\", \\'Read more\\', \\'Sameer Maskey of Fusemachines: “Knowing what is and is not possible”\\', \\'Read more\\', \\'Deploying Impactful AI Education Programs In Rural And Underserved America\\', \\'Read more\\', \\'Apple’s no-code Trinity AI platform handles complex spatial datasets\\', \\'Read more\\', \\'View all news\\', \\'Interested in more information?\\', \\'Contact Us\\', \\'AI Services\\', \\'Data & AI Team\\', \\'Data & AI Strategy\\', \\'Bespoke AI Solutions\\', \\'AI Schools\\', \\'For Enterprise\\', \\'For Education Institutions\\', \\'For Government\\', \\'Company\\', \\'Democratize AI\\', \\'Insights\\', \\'About\\', \\'Press\\', \\'Careers\\', \\'Fusemachines Inc.\\', \\'USA\\', \\'106 W 32nd St floor 2 New York, NY 10001\\', \\'Nepal\\', \\'Society Complex, Hattisar, Kathmandu\\', \\'© Copyright 2021 Fusemachines, Inc.\\', \\'\\', \\'\\', \\'All rights reserved\\', \\'Privacy Policy\\', \\'EULA\\', \\'This website uses cookies to facilitate and enhance your use of the website and track usage patterns. By continuing to use this website, you agree to our use of cookies as described in our\\', \\'Privacy Policy\\', \\'.\\', \\'I agree\\', \\'×\\', \\'Thank you for subscribing us.\\', \\'Our team member will contact to you shortly.\\', \\'×\\', \\'DB\\']']"
      ]
     },
     "execution_count": 28,
     "metadata": {},
     "output_type": "execute_result"
    }
   ],
   "source": [
    "data = textscrapper_from_website(\"https://fusemachines.com/\")\n",
    "data = [str(data)]\n",
    "data"
   ]
  },
  {
   "cell_type": "code",
   "execution_count": 29,
   "id": "6f9b33bf",
   "metadata": {},
   "outputs": [
    {
     "name": "stdout",
     "output_type": "stream",
     "text": [
      "Prediction :[0]\n"
     ]
    }
   ],
   "source": [
    "prediction(data)"
   ]
  },
  {
   "cell_type": "markdown",
   "id": "9358c173",
   "metadata": {},
   "source": [
    "### AffinityPropagation"
   ]
  },
  {
   "cell_type": "code",
   "execution_count": 26,
   "id": "f590aae1",
   "metadata": {},
   "outputs": [
    {
     "name": "stderr",
     "output_type": "stream",
     "text": [
      "C:\\Users\\ACER\\anaconda3\\lib\\site-packages\\sklearn\\cluster\\_affinity_propagation.py:148: FutureWarning: 'random_state' has been introduced in 0.23. It will be set to None starting from 1.0 (renaming of 0.25) which means that results will differ at every function call. Set 'random_state' to None to silence this warning, or to 0 to keep the behavior of versions <0.23.\n",
      "  warnings.warn(\n",
      "C:\\Users\\ACER\\anaconda3\\lib\\site-packages\\sklearn\\cluster\\_affinity_propagation.py:246: ConvergenceWarning: Affinity propagation did not converge, this model will not have any cluster centers.\n",
      "  warnings.warn(\"Affinity propagation did not converge, this model \"\n"
     ]
    },
    {
     "data": {
      "text/plain": [
       "AffinityPropagation(damping=0.9)"
      ]
     },
     "execution_count": 26,
     "metadata": {},
     "output_type": "execute_result"
    }
   ],
   "source": [
    "from sklearn.cluster import AffinityPropagation\n",
    "\n",
    "\n",
    "a_model = AffinityPropagation(damping=0.9)\n",
    "# fit the model\n",
    "a_model.fit(X_final)"
   ]
  },
  {
   "cell_type": "code",
   "execution_count": 30,
   "id": "f32f21e9",
   "metadata": {},
   "outputs": [
    {
     "data": {
      "image/png": "[encoded data removed]",
      "text/plain": [
       "<Figure size 462x360 with 6 Axes>"
      ]
     },
     "metadata": {
      "needs_background": "light"
     },
     "output_type": "display_data"
    }
   ],
   "source": [
    "import matplotlib.pyplot as plt\n",
    "from sklearn.manifold import TSNE\n",
    "import seaborn as sns\n",
    "\n",
    "\n",
    "a_tsne = TSNE().fit_transform(X=X,)\n",
    "a_tsne = pd.DataFrame(a_tsne, columns=['A', 'B'])\n",
    "\n",
    "label = [c for c in a_model.labels_]\n",
    "# print(unique(label))\n",
    "data = pd.DataFrame({'Label': label})\n",
    "\n",
    "data[\"Label\"] = data[\"Label\"].replace(1, 'Phishing')\n",
    "\n",
    "data[\"Label\"] = data[\"Label\"].replace(-1, 'Non-Phishing')\n",
    "\n",
    "tsne[\"Label\"] = list(data[\"Label\"]).copy()\n",
    "colors = {'Phishing':'#FF0000', \n",
    "          'Non-Phishing':'#00FF00'}\n",
    "sns.pairplot(tsne, hue='Label', diag_kind='kde', markers='.', palette=colors)\n",
    "plt.show()"
   ]
  },
  {
   "cell_type": "markdown",
   "id": "3692fbf2",
   "metadata": {},
   "source": [
    "### Agglomerative Clustering"
   ]
  },
  {
   "cell_type": "code",
   "execution_count": 32,
   "id": "a9c904a0",
   "metadata": {},
   "outputs": [],
   "source": [
    "from sklearn.cluster import AgglomerativeClustering\n",
    "\n",
    "agglomerative_model = AgglomerativeClustering(n_clusters=2)\n",
    "# fit model and predict clusters\n",
    "yhat = agglomerative_model.fit_predict(X_final)\n",
    "# retrieve unique clusters\n",
    "# clusters = unique(yhat)\n",
    "# print(clusters)"
   ]
  },
  {
   "cell_type": "code",
   "execution_count": 34,
   "id": "0eccda8b",
   "metadata": {},
   "outputs": [
    {
     "data": {
      "image/png": "[encoded data removed]",
      "text/plain": [
       "<Figure size 462x360 with 6 Axes>"
      ]
     },
     "metadata": {
      "needs_background": "light"
     },
     "output_type": "display_data"
    }
   ],
   "source": [
    "import matplotlib.pyplot as plt\n",
    "from sklearn.manifold import TSNE\n",
    "import seaborn as sns\n",
    "\n",
    "\n",
    "a_tsne = TSNE().fit_transform(X=X,)\n",
    "a_tsne = pd.DataFrame(a_tsne, columns=['A', 'B'])\n",
    "\n",
    "label = [c for c in agglomerative_model.labels_]\n",
    "# print(unique(label))\n",
    "data = pd.DataFrame({'Label': label})\n",
    "\n",
    "data[\"Label\"] = data[\"Label\"].replace(1, 'Phishing')\n",
    "\n",
    "data[\"Label\"] = data[\"Label\"].replace(0, 'Non-Phishing')\n",
    "\n",
    "tsne[\"Label\"] = list(data[\"Label\"]).copy()\n",
    "colors = {'Phishing':'#FF0000', \n",
    "          'Non-Phishing':'#00FF00'}\n",
    "sns.pairplot(tsne, hue='Label', diag_kind='kde', markers='.', palette=colors)\n",
    "plt.show()"
   ]
  },
  {
   "cell_type": "markdown",
   "id": "08a25632",
   "metadata": {},
   "source": [
    "### Brich"
   ]
  },
  {
   "cell_type": "code",
   "execution_count": null,
   "id": "2e5df74a",
   "metadata": {},
   "outputs": [],
   "source": [
    "from sklearn.cluster import Birch\n",
    "\n",
    "\n",
    "brich_model = Birch(threshold=0.01, n_clusters=2)\n",
    "# fit the model\n",
    "brich_model.fit(X_final)"
   ]
  },
  {
   "cell_type": "code",
   "execution_count": null,
   "id": "2ccf56b4",
   "metadata": {},
   "outputs": [],
   "source": [
    "import matplotlib.pyplot as plt\n",
    "from sklearn.manifold import TSNE\n",
    "import seaborn as sns\n",
    "\n",
    "\n",
    "a_tsne = TSNE().fit_transform(X=X,)\n",
    "a_tsne = pd.DataFrame(a_tsne, columns=['A', 'B'])\n",
    "\n",
    "label = [c for c in brich_model.labels_]\n",
    "print(unique(label))\n",
    "data = pd.DataFrame({'Label': label})\n",
    "\n",
    "data[\"Label\"] = data[\"Label\"].replace(0, 'Phishing')\n",
    "\n",
    "data[\"Label\"] = data[\"Label\"].replace(1, 'Non-Phishing')\n",
    "\n",
    "tsne[\"Label\"] = list(data[\"Label\"]).copy()\n",
    "colors = {'Phishing':'#FF0000', \n",
    "          'Non-Phishing':'#00FF00'}\n",
    "sns.pairplot(tsne, hue='Label', diag_kind='kde', markers='.', palette=colors)\n",
    "plt.show()"
   ]
  },
  {
   "cell_type": "markdown",
   "id": "154828ab",
   "metadata": {},
   "source": [
    "### DBSCAN\n"
   ]
  },
  {
   "cell_type": "code",
   "execution_count": null,
   "id": "eaeeac12",
   "metadata": {},
   "outputs": [],
   "source": [
    "from sklearn.cluster import DBSCAN\n",
    "\n",
    "# define the model\n",
    "model = DBSCAN(eps=0.30, min_samples=9)\n",
    "# fit model and predict clusters\n",
    "yhat = model.fit_predict(X_final)\n",
    "# retrieve unique clusters\n",
    "clusters = unique(yhat)\n",
    "print(clusters)"
   ]
  },
  {
   "cell_type": "markdown",
   "id": "c97587f9",
   "metadata": {},
   "source": [
    "### Mini-Batch K-Means\n"
   ]
  },
  {
   "cell_type": "code",
   "execution_count": null,
   "id": "8e5dfdb7",
   "metadata": {},
   "outputs": [],
   "source": [
    "from sklearn.cluster import MiniBatchKMeans\n",
    "\n",
    "\n",
    "mini_kmeans_model = MiniBatchKMeans(n_clusters=2)\n",
    "# fit the model\n",
    "mini_kmeans_model.fit(X)\n",
    "# assign a cluster to each example\n",
    "yhat = mini_kmeans_model.predict(X)\n",
    "# retrieve unique clusters\n",
    "clusters = unique(yhat)\n",
    "print(clusters)"
   ]
  },
  {
   "cell_type": "code",
   "execution_count": null,
   "id": "7a0978bc",
   "metadata": {},
   "outputs": [],
   "source": [
    "import matplotlib.pyplot as plt\n",
    "from sklearn.manifold import TSNE\n",
    "import seaborn as sns\n",
    "\n",
    "\n",
    "a_tsne = TSNE().fit_transform(X=X,)\n",
    "a_tsne = pd.DataFrame(a_tsne, columns=['A', 'B'])\n",
    "\n",
    "label = [c for c in mini_kmeans_model.labels_]\n",
    "print(unique(label))\n",
    "data = pd.DataFrame({'Label': label})\n",
    "\n",
    "data[\"Label\"] = data[\"Label\"].replace(0, 'Phishing')\n",
    "\n",
    "data[\"Label\"] = data[\"Label\"].replace(1, 'Non-Phishing')\n",
    "\n",
    "tsne[\"Label\"] = list(data[\"Label\"]).copy()\n",
    "colors = {'Phishing':'#FF0000', \n",
    "          'Non-Phishing':'#00FF00'}\n",
    "sns.pairplot(tsne, hue='Label', diag_kind='kde', markers='.', palette=colors)\n",
    "plt.show()"
   ]
  },
  {
   "cell_type": "markdown",
   "id": "79d4f60e",
   "metadata": {},
   "source": [
    "### Mean Shift\n"
   ]
  },
  {
   "cell_type": "code",
   "execution_count": null,
   "id": "b821cafe",
   "metadata": {},
   "outputs": [],
   "source": [
    "from sklearn.cluster import MeanShift\n",
    "\n",
    "# define the model\n",
    "mean_shift_model = MeanShift()\n",
    "# fit model and predict clusters\n",
    "yhat = mean_shift_model.fit_predict(X_final)\n",
    "# retrieve unique clusters\n",
    "clusters = unique(yhat)\n",
    "print(clusters)"
   ]
  },
  {
   "cell_type": "markdown",
   "id": "3f51ba77",
   "metadata": {},
   "source": [
    "### OPTICS\n"
   ]
  },
  {
   "cell_type": "code",
   "execution_count": null,
   "id": "51ee65ce",
   "metadata": {},
   "outputs": [],
   "source": [
    "from sklearn.cluster import OPTICS\n",
    "\n",
    "# define the model\n",
    "optics_model = OPTICS(eps=0.8, min_samples=10)\n",
    "# fit model and predict clusters\n",
    "yhat = optics_model.fit_predict(X_final)\n",
    "# retrieve unique clusters\n",
    "clusters = unique(yhat)\n",
    "print(clusters)"
   ]
  },
  {
   "cell_type": "markdown",
   "id": "ceeaaf13",
   "metadata": {},
   "source": [
    "### Spectral Clustering\n",
    "\n"
   ]
  },
  {
   "cell_type": "code",
   "execution_count": null,
   "id": "34429f88",
   "metadata": {},
   "outputs": [],
   "source": [
    "from sklearn.cluster import SpectralClustering\n",
    "\n",
    "\n",
    "# define the model\n",
    "spectral_model = SpectralClustering(n_clusters=2)\n",
    "# fit model and predict clusters\n",
    "yhat = spectral_model.fit_predict(X_final)\n",
    "# retrieve unique clusters\n",
    "clusters = unique(yhat)\n",
    "print(clusters)"
   ]
  },
  {
   "cell_type": "code",
   "execution_count": null,
   "id": "af6388b7",
   "metadata": {},
   "outputs": [],
   "source": [
    "import matplotlib.pyplot as plt\n",
    "from sklearn.manifold import TSNE\n",
    "import seaborn as sns\n",
    "\n",
    "\n",
    "a_tsne = TSNE().fit_transform(X=X,)\n",
    "a_tsne = pd.DataFrame(a_tsne, columns=['A', 'B'])\n",
    "\n",
    "label = [c for c in spectral_model.labels_]\n",
    "print(unique(label))\n",
    "data = pd.DataFrame({'Label': label})\n",
    "\n",
    "data[\"Label\"] = data[\"Label\"].replace(0, 'Phishing')\n",
    "\n",
    "data[\"Label\"] = data[\"Label\"].replace(1, 'Non-Phishing')\n",
    "\n",
    "tsne[\"Label\"] = list(data[\"Label\"]).copy()\n",
    "colors = {'Phishing':'#FF0000', \n",
    "          'Non-Phishing':'#00FF00'}\n",
    "sns.pairplot(tsne, hue='Label', diag_kind='kde', markers='.', palette=colors)\n",
    "plt.show()"
   ]
  },
  {
   "cell_type": "markdown",
   "id": "feec0bf9",
   "metadata": {},
   "source": [
    "### Gaussian Mixture Model"
   ]
  },
  {
   "cell_type": "code",
   "execution_count": null,
   "id": "e3c4a4d1",
   "metadata": {},
   "outputs": [],
   "source": [
    "from sklearn.mixture import GaussianMixture\n",
    "\n",
    "\n",
    "gaussian_model = GaussianMixture(n_components=2)\n",
    "# fit the model\n",
    "gaussian_model.fit(X_final)\n",
    "# assign a cluster to each example\n",
    "yhat = gaussian_model.predict(X_final)\n",
    "# retrieve unique clusters\n",
    "clusters = unique(yhat)\n",
    "\n",
    "print(clusters)"
   ]
  },
  {
   "cell_type": "markdown",
   "id": "dc3499c3",
   "metadata": {},
   "source": [
    "### Cosine similirity"
   ]
  },
  {
   "cell_type": "markdown",
   "id": "51801dd8",
   "metadata": {},
   "source": [
    "**Approach**\n",
    "\n",
    "* The basic idea is to create a label vector, which represents the 11(or according to your context) labels as vectors and calculate the cosine distance of each label (A) to the prediction text (B).\n",
    "\n",
    "* The label with the highest similarity or is higher than a certain threshold will be assigned to the user rating.\n",
    "\n",
    "![](https://miro.medium.com/max/875/0*Ace-yRqVl01k5onR)"
   ]
  },
  {
   "cell_type": "markdown",
   "id": "7b05f58a",
   "metadata": {},
   "source": [
    "# Text Classification Tools\n",
    "\n",
    "## Open-source libraries\n",
    "\n",
    "### [Text classification with python](https://monkeylearn.com/blog/text-classification-with-python/)\n",
    "* I just love this API. It is similar to microsoft azure api. In which we pass the input and labels. Model train with our custome data. We can finally download model which is trained in our custome data.\n",
    "* Scikit-learn\n",
    "* NLTK\n",
    "* TensorFlow\n",
    "\n",
    "## [SaaS APIs](https://monkeylearn.com/blog/text-classification-apis/)\n"
   ]
  },
  {
   "cell_type": "markdown",
   "id": "a8e61162",
   "metadata": {},
   "source": [
    "# Reference]\n",
    "\n",
    "## Data Visualization\n",
    "\n",
    "* https://www.scikit-yb.org/en/latest/api/text/tsne.html\n",
    "\n",
    "* https://www.kaggle.com/jeffd23/visualizing-word-vectors-with-t-sne\n",
    "\n",
    "* https://towardsdatascience.com/google-news-and-leo-tolstoy-visualizing-word2vec-word-embeddings-with-t-sne-11558d8bd4d\n",
    "\n",
    "* https://towardsdatascience.com/visualizing-topic-models-with-scatterpies-and-t-sne-f21f228f7b02\n",
    "\n",
    "* https://www.districtdatalabs.com/text-analytics-with-yellowbrick\n",
    "\n",
    "* https://www.google.com/amp/s/notebook.community/jkeung/yellowbrick/examples/text\n",
    "\n",
    "* https://leightley.com/visualizing-tweets-with-word2vec-and-t-sne-in-python/\n",
    "\n",
    "* https://www.bensblog.tech/visualization/Visualization_of_high-dimensional_datasets_using_PCA_and_t-SNE/\n",
    "\n",
    "* https://blog.f-secure.com/nlp-analysis-of-tweets-using-word2vec-and-t-sne/\n",
    "\n",
    "* https://pythonrepo.com/repo/JasonKessler-scattertext-python-natural-language-processing\n",
    "\n",
    "* https://www.google.com/amp/s/pythonawesome.com/beautiful-visualizations-of-how-language-differs-among-document-types/amp/\n",
    "\n",
    "\n",
    "## Model\n",
    "\n",
    "* https://www.kdnuggets.com/2018/01/automated-text-classification-machine-learning.html\n",
    "* https://towardsdatascience.com/applying-machine-learning-to-classify-an-unsupervised-text-document-e7bb6265f52\n",
    "* https://medium.com/@ai_medecindirect/unsupervised-text-classification-695392c6fac7\n",
    "* https://aclanthology.org/C00-1066.pdf\n",
    "* https://proceedings-of-deim.github.io/DEIM2020/papers/G4-2.pdf\n",
    "* https://machinelearningmastery.com/best-practices-document-classification-deep-learning/\n",
    "\n",
    "\n",
    "* https://machinelearningmastery.com/clustering-algorithms-with-python/"
   ]
  },
  {
   "cell_type": "code",
   "execution_count": null,
   "id": "90da83b3",
   "metadata": {},
   "outputs": [],
   "source": []
  }
 ],
 "metadata": {
  "kernelspec": {
   "display_name": "Python 3 (ipykernel)",
   "language": "python",
   "name": "python3"
  },
  "language_info": {
   "codemirror_mode": {
    "name": "ipython",
    "version": 3
   },
   "file_extension": ".py",
   "mimetype": "text/x-python",
   "name": "python",
   "nbconvert_exporter": "python",
   "pygments_lexer": "ipython3",
   "version": "3.9.7"
  }
 },
 "nbformat": 4,
 "nbformat_minor": 5
}
