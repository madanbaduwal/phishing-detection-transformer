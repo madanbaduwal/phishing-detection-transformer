{
 "cells": [
  {
   "cell_type": "markdown",
   "id": "2b54fcbe",
   "metadata": {},
   "source": [
    "# Website phishing and nonphishing\n",
    "\n",
    "Look at the html tags ,content of original site and phishing site and compair them."
   ]
  },
  {
   "cell_type": "code",
   "execution_count": null,
   "id": "a2adec74",
   "metadata": {},
   "outputs": [],
   "source": []
  }
 ],
 "metadata": {
  "kernelspec": {
   "display_name": "Python 3 (ipykernel)",
   "language": "python",
   "name": "python3"
  },
  "language_info": {
   "codemirror_mode": {
    "name": "ipython",
    "version": 3
   },
   "file_extension": ".py",
   "mimetype": "text/x-python",
   "name": "python",
   "nbconvert_exporter": "python",
   "pygments_lexer": "ipython3",
   "version": "3.9.7"
  }
 },
 "nbformat": 4,
 "nbformat_minor": 5
}
